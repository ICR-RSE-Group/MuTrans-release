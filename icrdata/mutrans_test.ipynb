{
 "cells": [
  {
   "cell_type": "markdown",
   "metadata": {},
   "source": [
    "Feb 2024\n",
    "# MuTrans script: Alma test"
   ]
  },
  {
   "cell_type": "code",
   "execution_count": 1,
   "metadata": {},
   "outputs": [],
   "source": [
    "import sys\n",
    "sys.path.append(\"/home/echen/matlab_engine/lib\")\n",
    "import matlab\n",
    "import matlab.engine"
   ]
  },
  {
   "cell_type": "code",
   "execution_count": 28,
   "metadata": {},
   "outputs": [],
   "source": [
    "import pandas as pd\n",
    "import numpy as np\n",
    "import scanpy as sc\n",
    "sc.settings.set_figure_params(dpi=100, frameon=False, figsize=(3, 3), facecolor='white')\n",
    "import matplotlib.pyplot as plt\n",
    "import pyMuTrans as pm\n",
    "import hdf5plugin\n",
    "import gc\n",
    "import seaborn as sns\n",
    "\n",
    "datadir = \"data/\""
   ]
  },
  {
   "cell_type": "markdown",
   "metadata": {},
   "source": [
    "## Mutrans analysis"
   ]
  },
  {
   "cell_type": "code",
   "execution_count": 31,
   "metadata": {},
   "outputs": [
    {
     "name": "stderr",
     "output_type": "stream",
     "text": [
      "c:\\Users\\echen\\Anaconda3\\envs\\mutrans\\lib\\site-packages\\anndata\\__init__.py:51: FutureWarning: `anndata.read` is deprecated, use `anndata.read_h5ad` instead. `ad.read` will be removed in mid 2024.\n",
      "  warnings.warn(\n"
     ]
    }
   ],
   "source": [
    "adata = sc.read(datadir+\"ut_scanpy_nn.h5ad\")"
   ]
  },
  {
   "cell_type": "code",
   "execution_count": 32,
   "metadata": {},
   "outputs": [
    {
     "data": {
      "text/plain": [
       "307"
      ]
     },
     "execution_count": 32,
     "metadata": {},
     "output_type": "execute_result"
    }
   ],
   "source": [
    "gc.collect()"
   ]
  },
  {
   "cell_type": "code",
   "execution_count": 33,
   "metadata": {},
   "outputs": [],
   "source": [
    "par = {\"choice_distance\":\"cosine\",\"K_cluster\":4.0,\"trials\":50,\"weight_scale\":True,\"initial\":\"pca\",\"reduce_large_scale\":True,\"reduce_num_meta_cell\":1000.0} \n",
    "adata_mu = pm.dynamical_analysis(adata, par)\n",
    "out = adata_mu.uns['da_out']\n",
    "ind = np.argsort(np.asarray(out['perm_class']).ravel().astype(int)-1)\n",
    "labels_in_meta = np.asarray(out['reduce_class']).ravel().astype(int)-1\n",
    "attractor_meta = np.asarray(out['class_order']).ravel()[ind]-1\n",
    "adata_mu.obs['attractor'] = [ int(attractor_meta[labels_in_meta[i]]) for i in range(len(labels_in_meta))]\n",
    "entropy_meta = np.asarray(out['H']).ravel()[ind]\n",
    "adata_mu.obs['entropy'] = [entropy_meta[labels_in_meta[i]] for i in range(len(labels_in_meta))]"
   ]
  },
  {
   "cell_type": "code",
   "execution_count": 37,
   "metadata": {},
   "outputs": [
    {
     "data": {
      "text/plain": [
       "AnnData object with n_obs × n_vars = 7170 × 2737\n",
       "    obs: 'Sample', 'Barcode', 'Batch', 'Class', 'sample_id', 'description', 'Rec', 'Condition', 'MES.Sig', 'ADRN.Sig', 'AMT.Sig', 'n_genes_by_counts', 'total_counts', 'total_counts_mt', 'pct_counts_mt', 'leiden', 'attractor', 'entropy'\n",
       "    var: 'mt', 'n_cells_by_counts', 'mean_counts', 'pct_dropout_by_counts', 'total_counts', 'highly_variable', 'means', 'dispersions', 'dispersions_norm', 'mean', 'std'\n",
       "    uns: 'hvg', 'leiden', 'leiden_colors', 'leiden_sizes', 'log1p', 'neighbors', 'paga', 'pca', 'tsne', 'umap', 'da_out', 'land'\n",
       "    obsm: 'X_pca', 'X_tsne', 'X_umap'\n",
       "    varm: 'PCs'\n",
       "    layers: 'logcounts'\n",
       "    obsp: 'connectivities', 'distances'"
      ]
     },
     "execution_count": 37,
     "metadata": {},
     "output_type": "execute_result"
    }
   ],
   "source": [
    "adata_mu"
   ]
  },
  {
   "cell_type": "code",
   "execution_count": 38,
   "metadata": {},
   "outputs": [
    {
     "data": {
      "text/plain": [
       "AnnData object with n_obs × n_vars = 7170 × 2737\n",
       "    obs: 'Sample', 'Barcode', 'Batch', 'Class', 'sample_id', 'description', 'Rec', 'Condition', 'MES.Sig', 'ADRN.Sig', 'AMT.Sig', 'n_genes_by_counts', 'total_counts', 'total_counts_mt', 'pct_counts_mt', 'leiden', 'attractor', 'entropy'\n",
       "    var: 'mt', 'n_cells_by_counts', 'mean_counts', 'pct_dropout_by_counts', 'total_counts', 'highly_variable', 'means', 'dispersions', 'dispersions_norm', 'mean', 'std'\n",
       "    uns: 'hvg', 'leiden', 'leiden_colors', 'leiden_sizes', 'log1p', 'neighbors', 'paga', 'pca', 'tsne', 'umap', 'da_out', 'land'\n",
       "    obsm: 'X_pca', 'X_tsne', 'X_umap'\n",
       "    varm: 'PCs'\n",
       "    layers: 'logcounts'\n",
       "    obsp: 'connectivities', 'distances'"
      ]
     },
     "execution_count": 38,
     "metadata": {},
     "output_type": "execute_result"
    }
   ],
   "source": [
    "adata_out = adata_mu\n",
    "adata_out"
   ]
  },
  {
   "cell_type": "code",
   "execution_count": 40,
   "metadata": {},
   "outputs": [],
   "source": [
    "for keys in list(adata_out.uns['da_out'].keys()):\n",
    "    if type(adata_out.uns['da_out'][keys]).__name__ == 'double':\n",
    "        adata_out.uns['da_out'][keys] = np.asarray(adata_out.uns['da_out'][keys])    \n",
    "\n",
    "for keys in list(adata_out.uns['land'].keys()):\n",
    "    if type(adata_out.uns['land'][keys]).__name__ == 'double':\n",
    "        adata_out.uns['land'][keys] = np.asarray(adata_out.uns['land'][keys])    \n",
    "\n",
    "del adata_out.uns['land']\n",
    "\n",
    "adata_out.write(datadir+'ut_mutrans.h5ad')"
   ]
  }
 ],
 "metadata": {
  "kernelspec": {
   "display_name": "mutrans",
   "language": "python",
   "name": "python3"
  },
  "language_info": {
   "codemirror_mode": {
    "name": "ipython",
    "version": 3
   },
   "file_extension": ".py",
   "mimetype": "text/x-python",
   "name": "python",
   "nbconvert_exporter": "python",
   "pygments_lexer": "ipython3",
   "version": "3.10.12"
  }
 },
 "nbformat": 4,
 "nbformat_minor": 4
}
