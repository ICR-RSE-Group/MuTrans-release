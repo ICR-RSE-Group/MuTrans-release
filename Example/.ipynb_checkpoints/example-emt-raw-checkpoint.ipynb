{
 "cells": [
  {
   "cell_type": "markdown",
   "metadata": {},
   "source": [
    "# MuTrans Analysis of Epithelial-Mesenchymal Transition (EMT)"
   ]
  },
  {
   "cell_type": "markdown",
   "metadata": {},
   "source": [
    "## Load raw dataset and explore with Scanpy"
   ]
  },
  {
   "cell_type": "code",
   "execution_count": 1,
   "metadata": {},
   "outputs": [
    {
     "name": "stderr",
     "output_type": "stream",
     "text": [
      "/Users/cliffzhou/opt/anaconda3/lib/python3.7/site-packages/pyemma/__init__.py:92: UserWarning: You are not using the latest release of PyEMMA. Latest is 2.5.7, you have 2.5.6.\n",
      "  .format(latest=latest, current=current), category=UserWarning)\n"
     ]
    }
   ],
   "source": [
    "import pandas as pd\n",
    "import scanpy as sc\n",
    "sc.settings.set_figure_params(dpi=100, frameon=False, figsize=(3, 3), facecolor='white')\n",
    "\n",
    "import matplotlib.pyplot as plt\n",
    "import seaborn as sns\n",
    "color_palette = sns.color_palette('Set1', 5)\n",
    "\n",
    "import pyMuTrans as pm\n",
    "\n",
    "datadir = \"../Data/\"\n",
    "adata = sc.read_csv(datadir+'GSE110357_htseq_counts_all_v1.csv.gz').T"
   ]
  },
  {
   "cell_type": "code",
   "execution_count": null,
   "metadata": {},
   "outputs": [
    {
     "name": "stdout",
     "output_type": "stream",
     "text": [
      "querying 1-1000...done.\n",
      "querying 1001-2000...done.\n",
      "querying 2001-3000...done.\n",
      "querying 3001-4000...done.\n",
      "querying 4001-5000...done.\n"
     ]
    }
   ],
   "source": [
    "import mygene\n",
    "adata.var_names =[x.split(\".\")[0] for x in adata.var_names]\n",
    "mg = mygene.MyGeneInfo()\n",
    "geneList = adata.var_names\n",
    "geneSyms = mg.querymany(geneList , scopes='ensembl.gene', fields='symbol', species='mouse')"
   ]
  },
  {
   "cell_type": "code",
   "execution_count": null,
   "metadata": {},
   "outputs": [],
   "source": [
    "gene_name = [x['symbol'] if x.__contains__('symbol') else x['query'] for x in geneSyms if not x['query']=='ENSMUSG00000100417']\n",
    "adata = adata [:,adata.var_names !='ENSMUSG00000100417']\n",
    "adata.var_names = gene_name"
   ]
  },
  {
   "cell_type": "code",
   "execution_count": null,
   "metadata": {},
   "outputs": [],
   "source": [
    "adata.var_names_make_unique()\n",
    "sc.pp.filter_cells(adata, min_genes=200)\n",
    "sc.pp.filter_genes(adata, min_cells=3)"
   ]
  },
  {
   "cell_type": "code",
   "execution_count": null,
   "metadata": {},
   "outputs": [],
   "source": [
    "adata.var['ERCC'] = adata.var_names.str.startswith('ERCC')  # annotate the group of mitochondrial genes as 'mt'\n",
    "sc.pp.calculate_qc_metrics(adata, qc_vars=['ERCC'], percent_top=None, log1p=False, inplace=True)"
   ]
  },
  {
   "cell_type": "code",
   "execution_count": null,
   "metadata": {},
   "outputs": [],
   "source": [
    "adata.obs['n_counts']=adata.X.sum(axis=1)\n",
    "adata = adata[adata.obs['n_counts']>100000,:]"
   ]
  },
  {
   "cell_type": "code",
   "execution_count": null,
   "metadata": {},
   "outputs": [],
   "source": [
    "adata = adata[adata.obs['pct_counts_ERCC']<2,:]"
   ]
  },
  {
   "cell_type": "code",
   "execution_count": null,
   "metadata": {},
   "outputs": [],
   "source": [
    "adata.raw = adata\n",
    "genes = pd.read_csv(datadir+'emt_genes.csv')\n",
    "genes_intersect = list(set(genes['genes'].to_list()) & set(gene_name))\n",
    "adata = adata[:,adata.var_names.isin(genes_intersect)]"
   ]
  },
  {
   "cell_type": "code",
   "execution_count": null,
   "metadata": {},
   "outputs": [],
   "source": [
    "sc.pp.log1p(adata)\n",
    "sc.pp.scale(adata)"
   ]
  },
  {
   "cell_type": "code",
   "execution_count": null,
   "metadata": {},
   "outputs": [],
   "source": [
    "sc.tl.pca(adata, svd_solver='arpack')\n",
    "sc.pp.neighbors(adata,metric = 'cosine',n_neighbors=50, use_rep='X')\n",
    "sc.tl.umap(adata)"
   ]
  },
  {
   "cell_type": "markdown",
   "metadata": {},
   "source": [
    "Using leiden algorithm to detect clusters"
   ]
  },
  {
   "cell_type": "code",
   "execution_count": null,
   "metadata": {},
   "outputs": [],
   "source": [
    "sc.settings.set_figure_params(dpi=100, frameon=False, figsize=(3, 3), facecolor='white')\n",
    "sc.tl.leiden(adata,resolution = 1.0)\n",
    "sc.pl.umap(adata, color=['leiden','Epcam','Mmp19'], vmax = 'p95')"
   ]
  },
  {
   "cell_type": "code",
   "execution_count": null,
   "metadata": {},
   "outputs": [],
   "source": [
    "sc.tl.rank_genes_groups(adata, 'leiden', method='wilcoxon')\n",
    "sc.pl.rank_genes_groups(adata, n_genes=10, sharey=False)"
   ]
  },
  {
   "cell_type": "code",
   "execution_count": null,
   "metadata": {},
   "outputs": [],
   "source": [
    "sc.pl.umap(adata, color=['leiden','Tmem123','Yap1'], vmax = 'p95')"
   ]
  },
  {
   "cell_type": "markdown",
   "metadata": {},
   "source": [
    "## Estimate Cluster Number with EPI (Eigen-Peak Index)"
   ]
  },
  {
   "cell_type": "code",
   "execution_count": null,
   "metadata": {},
   "outputs": [],
   "source": [
    "fig = plt.figure(figsize=(6, 3))\n",
    "par = {\"choice_distance\":\"cosine\"}\n",
    "out = pm.plot_cluster_num(adata, par, k_plot= 10) #look for the peaks"
   ]
  },
  {
   "cell_type": "markdown",
   "metadata": {},
   "source": [
    "## MuTrans Analysis Based on the AnnData Object"
   ]
  },
  {
   "cell_type": "code",
   "execution_count": null,
   "metadata": {},
   "outputs": [],
   "source": [
    "par = {\"choice_distance\":\"cosine\",\"perplex\":150.0,\"K_cluster\":5.0,\"trials\":10,\"reduction_coord\":'umap',\"write_anndata\":True} \n",
    "adata = pm.dynamical_analysis(adata,par)"
   ]
  },
  {
   "cell_type": "code",
   "execution_count": null,
   "metadata": {},
   "outputs": [],
   "source": [
    "fig = sc.pl.umap(adata, color=['attractor','entropy','Epcam','Mmp19'], vmax = 'p90', palette = color_palette,return_fig = True)\n",
    "#fig.savefig('emt_umap.pdf')"
   ]
  },
  {
   "cell_type": "code",
   "execution_count": null,
   "metadata": {},
   "outputs": [],
   "source": [
    "sc.tl.rank_genes_groups(adata, 'attractor', method='wilcoxon')\n",
    "sc.pl.rank_genes_groups(adata, n_genes=10, sharey=True, ncols = 5)"
   ]
  },
  {
   "cell_type": "code",
   "execution_count": null,
   "metadata": {},
   "outputs": [],
   "source": [
    "sc.pl.umap(adata, color=['Steap4','Prelp','Birc5','Dcn','Mme'],vmax = 'p99',vmin = 'p1', ncols = 5)"
   ]
  },
  {
   "cell_type": "code",
   "execution_count": null,
   "metadata": {},
   "outputs": [],
   "source": [
    "sc.pl.violin(adata, keys = ['Pbk','Prelp','Birc5','Dcn','Mme'], groupby = 'attractor')"
   ]
  },
  {
   "cell_type": "code",
   "execution_count": null,
   "metadata": {},
   "outputs": [],
   "source": [
    "sc.settings.set_figure_params(frameon=False,figsize=(4, 3))\n",
    "sc.pl.violin(adata, keys = ['Epcam','Krt5','Zeb2','Prrx1','Mmp19','Aspn'], groupby = 'attractor')"
   ]
  },
  {
   "cell_type": "markdown",
   "metadata": {},
   "source": [
    "Infer the transition trajectories from Epithelial to Mesenchymal, with the MPPT (most probable path tree) approach"
   ]
  },
  {
   "cell_type": "code",
   "execution_count": null,
   "metadata": {},
   "outputs": [],
   "source": [
    "fig = plt.figure(figsize=(8, 8))\n",
    "pm.infer_lineage(adata,si=3,sf=0,method = \"MPPT\",size_point =40,alpha_point = 0.5)\n",
    "fig.savefig('emt_tpt_0.pdf')"
   ]
  },
  {
   "cell_type": "code",
   "execution_count": null,
   "metadata": {},
   "outputs": [],
   "source": [
    "fig = plt.figure(figsize=(8, 8))\n",
    "pm.infer_lineage(adata,si=3,sf=4,method = \"MPPT\",size_point =40,alpha_point = 0.5)\n",
    "fig.savefig('emt_tpt_4.pdf')"
   ]
  },
  {
   "cell_type": "markdown",
   "metadata": {},
   "source": [
    "## PAGA Analysis"
   ]
  },
  {
   "cell_type": "code",
   "execution_count": null,
   "metadata": {},
   "outputs": [],
   "source": [
    "sc.tl.paga(adata, groups='leiden')"
   ]
  },
  {
   "cell_type": "code",
   "execution_count": null,
   "metadata": {},
   "outputs": [],
   "source": [
    "sc.pl.paga(adata, color=['leiden','Epcam','Mmp19'])"
   ]
  },
  {
   "cell_type": "code",
   "execution_count": null,
   "metadata": {},
   "outputs": [],
   "source": [
    "sc.tl.draw_graph(adata, init_pos='paga')\n",
    "sc.pl.draw_graph(adata, color=['leiden','Epcam','Mmp19','Lox'], legend_loc='on data')"
   ]
  },
  {
   "cell_type": "code",
   "execution_count": null,
   "metadata": {},
   "outputs": [],
   "source": [
    "from scipy.io import savemat\n",
    "mdic = {\"data\": adata.X, \"genes\": adata.var_names.to_numpy()}\n",
    "savemat('emt_data.mat',mdic)"
   ]
  }
 ],
 "metadata": {
  "kernelspec": {
   "display_name": "Python 3",
   "language": "python",
   "name": "python3"
  },
  "language_info": {
   "codemirror_mode": {
    "name": "ipython",
    "version": 3
   },
   "file_extension": ".py",
   "mimetype": "text/x-python",
   "name": "python",
   "nbconvert_exporter": "python",
   "pygments_lexer": "ipython3",
   "version": "3.7.6"
  }
 },
 "nbformat": 4,
 "nbformat_minor": 4
}
